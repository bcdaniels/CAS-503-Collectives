{
 "cells": [
  {
   "cell_type": "markdown",
   "id": "patent-assistant",
   "metadata": {},
   "source": [
    "*This jupyter notebook is part of Arizona State University's course CAS 503 (Fundamentals of Complex Systems Science: Collectives) and was written by Bryan Daniels.  It was last updated August 29, 2023.*\n",
    "\n",
    "*The boids simulation code was written by [Ben Eater](https://eater.net/boids).*"
   ]
  },
  {
   "cell_type": "markdown",
   "id": "complete-costs",
   "metadata": {},
   "source": [
    "# Identifying collective phases"
   ]
  },
  {
   "cell_type": "markdown",
   "id": "vulnerable-wisdom",
   "metadata": {},
   "source": [
    "In this exercise, we will explore a simple model of collective motion known as \"boids\".  Boids can be thought of as a very simplistic representation of flocking birds or schooling fish.\n",
    "\n",
    "Each boid can see all of its neighbors within a certain distance, and moves according to three rules:\n",
    "1. It is *attracted* to boids it can see, moving toward the average location of nearby boids.\n",
    "2. It tries to *align* its direction of motion with its neighbors, adjusting its direction toward the average direction of nearby boids.\n",
    "3. It tries to *avoid* colliding with other boids, moving away from boids that are very close.\n",
    "\n",
    "(This simulation also adds a fourth rule to move away from the boundaries at the edge of the screen.)\n",
    "\n",
    "Depending on the strength of each social force, boids can display a variety of collective behaviors."
   ]
  },
  {
   "cell_type": "markdown",
   "id": "acting-affairs",
   "metadata": {},
   "source": [
    "To run the model with 100 boids and default parameters, run the following two cells to set up the simulation, then click the link following the second cell.  The simulation will start in a new tab, starting with boids in random positions and following the above rules.  You can close the simulation tab when you're done with it."
   ]
  },
  {
   "cell_type": "code",
   "execution_count": null,
   "id": "ready-safety",
   "metadata": {},
   "outputs": [],
   "source": [
    "from boids.boids import setupBoidsSimulation"
   ]
  },
  {
   "cell_type": "code",
   "execution_count": null,
   "id": "negative-sandwich",
   "metadata": {},
   "outputs": [],
   "source": [
    "# run this cell to set up the simulation\n",
    "\n",
    "attractiveFactor = 2\n",
    "alignmentFactor = 1\n",
    "avoidFactor = 1\n",
    "numBoids = 100\n",
    "\n",
    "setupBoidsSimulation(attractiveFactor,alignmentFactor,avoidFactor,numBoids=numBoids)"
   ]
  },
  {
   "cell_type": "markdown",
   "id": "professional-worst",
   "metadata": {},
   "source": [
    "**[Click here to run simulation](boids/index-modified.html)**"
   ]
  },
  {
   "cell_type": "markdown",
   "id": "suited-shopping",
   "metadata": {},
   "source": [
    "❓**Perform a qualitative analysis of the collective phases of this system as `attractiveFactor` and `alignmentFactor` are varied.**\n",
    "\n",
    "1. Start by getting a rough idea of the space of possibilities by running the simulation while varying `attractiveFactor` and `alignmentFactor` (say, between 0 and 10).  What different types of long-term collective behavior do you see? *Hint: Don't worry about strange behavior at very large values of the parameters, unless you're feeling brave!*\n",
    "</br>\n",
    "\n",
    "2. Make a list of key properties of the collective behavior that help distinguish the different types of long-term behavior.  These can be qualitative for now—properties you can measure roughly, by eye.  You might consider, for example, how close the boids are to one another, or how well aligned boids are.  (Some choices here could lead to more easily distinguished phases in the next step.)\n",
    "</br>\n",
    "\n",
    "3. Define two or more *phases* in terms of one of the collective properties on your list (or more than one property if you're so inclined).  Example: You might identify a \"disordered\" phase as one in which individual boids typically point in all directions.  *Hint: Remember that phases should tell us something about behavior at the collective scale after a long time has passed.*\n",
    "</br>\n",
    "\n",
    "4. Systematically vary `attractiveFactor` and `alignmentFactor`, recording which of your phases the system is in for each setting of the parameters.  Choose sensible ranges over which to vary the parameters to highlight any transitions between phases.  \n",
    "</br>\n",
    "\n",
    "5. Draw a two-dimensional phase diagram, with one axis of your plot representing `attractiveFactor` and the other `alignmentFactor`.  Draw lines on your plot representing boundaries between different phases.  *Hints: One simple way to build your phase diagram is by starting with a two-dimensional grid of points.  Each point in the grid corresponds to values for the parameters `attractiveFactor` and `alignmentFactor`, and the collective behavior at each point in the grid is characterized by its phase.  Once you have mapped out which points in the diagram correspond to which phases, phase boundaries happen where changes in the parameters lead to a change in the phase.  Phases may become difficult to distinguish near phase boundaries, with the system taking a long time to come to equilibrium.  This is typical, and even has a name: \"critical slowing down\".  Don't worry about making your phase diagram exact—your phase boundaries may be somewhat blurry.*\n",
    "</br>\n",
    "\n",
    "6. Pick one of your key collective properties and write down a quantitative measure that one could use to distinguish phases more precisely.  Your measure should be a number that describes the aggregate state and something that one could calculate given any particular detailed state of the system.  You can describe your measure using a formula or in words. *Hint: In statistical physics, collective properties that define phases are typically called \"order parameters\" because they often measure the degree to which the system is ordered versus disordered.*"
   ]
  },
  {
   "cell_type": "markdown",
   "id": "2981c182",
   "metadata": {},
   "source": [
    "✳️ **Answer**: \n",
    "\n",
    "*(Note: It may be easier to write out your analysis and draw your phase diagram on a piece of paper or using different software, rather than trying to use this jupyter notebook.  Feel free to turn in your response in any format that I can read!)*"
   ]
  },
  {
   "cell_type": "markdown",
   "id": "c8d40157",
   "metadata": {},
   "source": [
    "⚛️ **Bonus questions (for nothing but bragging rights):** What happens to your phase diagram when the number of boids increases (controlled by the parameter `numBoids`)?  Could you make a 3D phase diagram that included variation in the parameter `avoidFactor`?"
   ]
  },
  {
   "cell_type": "markdown",
   "id": "1f4c8abd",
   "metadata": {},
   "source": [
    "✴️ **Answer:**"
   ]
  }
 ],
 "metadata": {
  "kernelspec": {
   "display_name": "Python 3 (ipykernel)",
   "language": "python",
   "name": "python3"
  },
  "language_info": {
   "codemirror_mode": {
    "name": "ipython",
    "version": 3
   },
   "file_extension": ".py",
   "mimetype": "text/x-python",
   "name": "python",
   "nbconvert_exporter": "python",
   "pygments_lexer": "ipython3",
   "version": "3.9.16"
  }
 },
 "nbformat": 4,
 "nbformat_minor": 5
}
