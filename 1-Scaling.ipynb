{
 "cells": [
  {
   "cell_type": "markdown",
   "id": "current-anaheim",
   "metadata": {},
   "source": [
    "*This jupyter notebook is part of Arizona State University's course CAS 503 (Fundamentals of Complex Systems Science: Collectives) and was written by Bryan Daniels.  It was last updated August 24, 2023.*"
   ]
  },
  {
   "cell_type": "markdown",
   "id": "flying-triple",
   "metadata": {},
   "source": [
    "*Data used in this notebook comes from the following publication:*\n",
    "* *McPherson, E. Gregory; van Doorn, Natalie S.; Peper, Paula J. 2016. Urban tree database. Fort Collins, CO: Forest Service Research Data Archive. Updated 21 January 2020. https://doi.org/10.2737/RDS-2016-0005*"
   ]
  },
  {
   "cell_type": "markdown",
   "id": "interpreted-freight",
   "metadata": {},
   "source": [
    "# Identifying scaling laws"
   ]
  },
  {
   "cell_type": "markdown",
   "id": "9bce4687",
   "metadata": {},
   "source": [
    "In lecture, we saw how scaling laws can often be used to relate quantities in collectives to one another.  A common basic type of scaling takes the form of a \"self-similar\" power law:\n",
    "$$\n",
    "A = k B^\\beta,\n",
    "$$\n",
    "where $A$ and $B$ are two quantities of interest, $k$ is a constant factor, and $\\beta$ is the exponent of the power law.\n",
    "\n",
    "In this exercise, we'll look for scaling laws within some real-world ecological data from measurements of trees."
   ]
  },
  {
   "cell_type": "markdown",
   "id": "e9df5909",
   "metadata": {},
   "source": [
    "First import some useful standard python packages:"
   ]
  },
  {
   "cell_type": "code",
   "execution_count": null,
   "id": "dedicated-beverage",
   "metadata": {},
   "outputs": [],
   "source": [
    "import numpy\n",
    "import matplotlib.pyplot as plt\n",
    "plt.rcParams.update({'font.size': 18}) # increases font size on plots\n",
    "import pandas\n",
    "from pathlib import Path # to handle file paths across all operating systems"
   ]
  },
  {
   "cell_type": "markdown",
   "id": "753e03f9",
   "metadata": {},
   "source": [
    "`numpy` (Numerical Python) is very useful for working with arrays of numbers; we'll use `matplotlib` to make plots; and `pandas` is a powerful package for managing data—think of it as a grown-up version of an Excel spreadsheet."
   ]
  },
  {
   "cell_type": "markdown",
   "id": "cc37f0c3",
   "metadata": {},
   "source": [
    "Now we'll use `pandas` to load in some public tree data from a CSV file provided by the Forest Service's \"Urban Tree Database\":\n",
    "\n",
    "*(Hint: Are you getting a `FileNotFoundError` when running the following line?  If so, be sure that you have downloaded the GitHub repository in its entirety before trying to run this notebook.  See the [instructions here](https://github.com/bcdaniels/CAS-503-Collectives#setting-up-this-git-repository) for more information.)*"
   ]
  },
  {
   "cell_type": "code",
   "execution_count": null,
   "id": "complete-practitioner",
   "metadata": {},
   "outputs": [],
   "source": [
    "data = pandas.read_csv(Path('data/McPhersonEtAl2020/TS3_Raw_tree_data.csv'))"
   ]
  },
  {
   "cell_type": "markdown",
   "id": "7bd92bdb",
   "metadata": {},
   "source": [
    "What is this `data` object?"
   ]
  },
  {
   "cell_type": "code",
   "execution_count": null,
   "id": "e7577e06",
   "metadata": {},
   "outputs": [],
   "source": [
    "type(data)"
   ]
  },
  {
   "cell_type": "markdown",
   "id": "e6c0f969",
   "metadata": {},
   "source": [
    "It's a `pandas` `DataFrame` object, basically a spreadsheet of data values.  To see a preview of the data, use the `head` function:"
   ]
  },
  {
   "cell_type": "code",
   "execution_count": null,
   "id": "5e1859e8",
   "metadata": {},
   "outputs": [],
   "source": [
    "data.head()"
   ]
  },
  {
   "cell_type": "markdown",
   "id": "abf9bbbe",
   "metadata": {},
   "source": [
    "Each row corresponds to a single tree.  How many trees do we have?"
   ]
  },
  {
   "cell_type": "code",
   "execution_count": null,
   "id": "8d8aa8f5",
   "metadata": {},
   "outputs": [],
   "source": [
    "len(data)"
   ]
  },
  {
   "cell_type": "markdown",
   "id": "2312c8b8",
   "metadata": {},
   "source": [
    "A lot of trees!  We can also see a list of all the column names:"
   ]
  },
  {
   "cell_type": "code",
   "execution_count": null,
   "id": "moved-colombia",
   "metadata": {},
   "outputs": [],
   "source": [
    "data.columns"
   ]
  },
  {
   "cell_type": "markdown",
   "id": "f9d3fd96",
   "metadata": {},
   "source": [
    "Now we'll use the following syntax to look at a subset of the data coming from a single species, the [Japanese zelkova](https://en.wikipedia.org/wiki/Zelkova_serrata):"
   ]
  },
  {
   "cell_type": "code",
   "execution_count": null,
   "id": "cellular-portuguese",
   "metadata": {},
   "outputs": [],
   "source": [
    "dataSubset = data[ (data['CommonName']=='Japanese zelkova') ]"
   ]
  },
  {
   "cell_type": "markdown",
   "id": "30d6f6f0",
   "metadata": {},
   "source": [
    "And we can, for instance, look at the cities and tree heights for the 112 Japanese zelkova in the database:"
   ]
  },
  {
   "cell_type": "code",
   "execution_count": null,
   "id": "terminal-range",
   "metadata": {},
   "outputs": [],
   "source": [
    "dataSubset[['City','TreeHt (m)']]"
   ]
  },
  {
   "cell_type": "markdown",
   "id": "6fab11f6",
   "metadata": {},
   "source": [
    "Another common measurement for those who study trees is the \"diameter at breast height\" (DBH).  This measures the diameter of a tree's trunk at a fixed distance from the ground.\n",
    "\n",
    "❓**Naively (or not so naively, if you are a tree biologist), how would you expect the height of a tree to scale with the diameter of its trunk?  Or would you expect any kind of scaling relationship at all?** *Hint: There's no wrong answer here—we're just practicing the good scientific habit of guessing what the answer will be before you calculate it.*"
   ]
  },
  {
   "cell_type": "markdown",
   "id": "4de3b1f6",
   "metadata": {},
   "source": [
    "✳️ **Answer:** "
   ]
  },
  {
   "cell_type": "markdown",
   "id": "f39aac76",
   "metadata": {},
   "source": [
    "Now let's check the data."
   ]
  },
  {
   "cell_type": "markdown",
   "id": "899185b7",
   "metadata": {},
   "source": [
    "The function `plt.scatter` will take two columns of our dataset and plot points in a 2D scatter plot:"
   ]
  },
  {
   "cell_type": "code",
   "execution_count": null,
   "id": "823d09f3",
   "metadata": {},
   "outputs": [],
   "source": [
    "plt.scatter(dataSubset['DBH (cm)'],dataSubset['TreeHt (m)'])\n",
    "plt.xlabel('diameter (cm)')\n",
    "plt.ylabel('height (m)');"
   ]
  },
  {
   "cell_type": "markdown",
   "id": "70e129ca",
   "metadata": {},
   "source": [
    "There is definitely some kind of relationship.  Maybe linear?  Maybe there is a curve?  Recall that, in lecture, we saw how a log-log plot will show a power law relationship as a straight line.  \n",
    "\n",
    "❓**Plot the same data on a log-log plot.**  *Hints: `numpy.log` will take the logarithm of each value in an array of data: e.g. `numpy.log(dataSubset['DBH (cm)'])`.  Don't forget axes labels!*"
   ]
  },
  {
   "cell_type": "code",
   "execution_count": null,
   "id": "stupid-morris",
   "metadata": {
    "scrolled": true
   },
   "outputs": [],
   "source": [
    "# ✳️ Answer"
   ]
  },
  {
   "cell_type": "markdown",
   "id": "c1d80791",
   "metadata": {},
   "source": [
    "This looks quite linear, indicating that tree height does scale (at least roughly) as a power law of diameter.\n",
    "\n",
    "Recall that the slope of a line on a log-log plot indicates the power of the power law: taking the logarithm of both sides of the equation at the beginning of the notebook, we have\n",
    "$$\n",
    "\\log A = \\log k + \\beta \\log B,\n",
    "$$\n",
    "so the exponent $\\beta$ in the original equation is the slope of a linear relationship between $\\log A$ and $\\log B$.\n",
    "\n",
    "So we will now fit a line to our logged data, making use of a polynomial fitting function from `numpy` (a polynomial of degree 1 is a line):"
   ]
  },
  {
   "cell_type": "code",
   "execution_count": null,
   "id": "express-bikini",
   "metadata": {},
   "outputs": [],
   "source": [
    "polyfit = numpy.polynomial.Polynomial.fit(numpy.log(dataSubset['DBH (cm)']),\n",
    "                                          numpy.log(dataSubset['TreeHt (m)']),1).convert()\n",
    "polyfit"
   ]
  },
  {
   "cell_type": "markdown",
   "id": "d3eda589",
   "metadata": {},
   "source": [
    "This output means that the logarithm of tree height is approximately 0.39 plus 0.57 times the logarithm of DBH.\n",
    "\n",
    "We can plot the fit line using the following code:"
   ]
  },
  {
   "cell_type": "code",
   "execution_count": null,
   "id": "e3144910",
   "metadata": {},
   "outputs": [],
   "source": [
    "logDiameters = numpy.linspace(0,5)\n",
    "predictedLogHeights = 0.39096 + 0.57336*logDiameters\n",
    "plt.plot(logDiameters,predictedLogHeights,color='orange')\n",
    "plt.xlabel('log diameter (cm)')\n",
    "plt.ylabel('log height (m)');"
   ]
  },
  {
   "cell_type": "markdown",
   "id": "4d624c16",
   "metadata": {},
   "source": [
    "❓**Combine your scatter plot of the logged data above with the fit line to display them overlapping on the same plot.** *Hint: You can typically make overlapping plots simply by calling plotting functions one after another.*"
   ]
  },
  {
   "cell_type": "code",
   "execution_count": null,
   "id": "medium-television",
   "metadata": {},
   "outputs": [],
   "source": [
    "# ✳️ Answer"
   ]
  },
  {
   "cell_type": "markdown",
   "id": "5f474b10",
   "metadata": {},
   "source": [
    "❓**What is our estimate of the exponent $\\beta$ describing the scaling of tree height with diameter? Is the scaling linear, superlinear, or sublinear?**"
   ]
  },
  {
   "cell_type": "markdown",
   "id": "6f104cb9",
   "metadata": {},
   "source": [
    "✳️ **Answer:** "
   ]
  },
  {
   "cell_type": "markdown",
   "id": "79cec800",
   "metadata": {},
   "source": [
    "❓**On the original, non-logged scatter plot, if we overlay the fit scaling law, should it curve upward as diameter increases, curve downward, or appear as a straight line?**"
   ]
  },
  {
   "cell_type": "markdown",
   "id": "e4bda652",
   "metadata": {},
   "source": [
    "✳️ **Answer:** "
   ]
  },
  {
   "cell_type": "markdown",
   "id": "682dfeca",
   "metadata": {},
   "source": [
    "Check your answer with the following code that adds the power law fit to the original scatter plot:"
   ]
  },
  {
   "cell_type": "code",
   "execution_count": null,
   "id": "talented-magic",
   "metadata": {},
   "outputs": [],
   "source": [
    "plt.scatter(dataSubset['DBH (cm)'],\n",
    "            dataSubset['TreeHt (m)'])\n",
    "\n",
    "logDiameters = numpy.linspace(0,5)\n",
    "diameters = numpy.exp(logDiameters)\n",
    "predictedLogHeights = 0.39096 + 0.57336*logDiameters\n",
    "predictedHeights = numpy.exp(predictedLogHeights)\n",
    "\n",
    "plt.plot(diameters,predictedHeights,color='orange')\n",
    "plt.xlabel('diameter (cm)')\n",
    "plt.ylabel('height (m)');"
   ]
  },
  {
   "cell_type": "markdown",
   "id": "f16e27da",
   "metadata": {},
   "source": [
    "❓**Extrapolate using your fit scaling law to predict the height of a hypothetical Japanese zelkova that has a trunk 200 cm in diameter.**"
   ]
  },
  {
   "cell_type": "markdown",
   "id": "2d103070",
   "metadata": {},
   "source": [
    "✳️ **Answer:** "
   ]
  },
  {
   "cell_type": "markdown",
   "id": "62123d30",
   "metadata": {},
   "source": [
    "⚛️ **Bonus question (for nothing but bragging rights):** An important quantity for ecologists is the bio-mass, basically the total mass of the wood in our tree example (which is related, for example, to the total amount of carbon captured by a forest).  The bio-mass of a tree is harder to measure than, say, its diameter.  Use your scaling law and any needed basic assumptions to predict how a Japanese zelkova's biomass scales as a function of its diameter.  This relates our scaling analysis with ecologically relevant collective effects of the cells that combine to form a tree."
   ]
  },
  {
   "cell_type": "markdown",
   "id": "8bcdd6dd",
   "metadata": {},
   "source": [
    "✴️ **Answer:** "
   ]
  }
 ],
 "metadata": {
  "kernelspec": {
   "display_name": "Python 3 (ipykernel)",
   "language": "python",
   "name": "python3"
  },
  "language_info": {
   "codemirror_mode": {
    "name": "ipython",
    "version": 3
   },
   "file_extension": ".py",
   "mimetype": "text/x-python",
   "name": "python",
   "nbconvert_exporter": "python",
   "pygments_lexer": "ipython3",
   "version": "3.9.16"
  }
 },
 "nbformat": 4,
 "nbformat_minor": 5
}
