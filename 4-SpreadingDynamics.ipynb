{
 "cells": [
  {
   "cell_type": "markdown",
   "id": "limited-submission",
   "metadata": {},
   "source": [
    "*This jupyter notebook is part of Arizona State University's course CAS 503 (Fundamentals of Complex Systems Science: Collectives) and was written by Bryan Daniels.  It was last updated September 26, 2024.*"
   ]
  },
  {
   "cell_type": "markdown",
   "id": "strange-absolute",
   "metadata": {},
   "source": [
    "# Dynamics on Networks and Collective Modes"
   ]
  },
  {
   "cell_type": "markdown",
   "id": "centered-motorcycle",
   "metadata": {},
   "source": [
    "In this exercise, we'll run simple spreading dynamics on a few networks and compute collective modes to predict the result of these dynamics."
   ]
  },
  {
   "cell_type": "markdown",
   "id": "creative-figure",
   "metadata": {},
   "source": [
    "Run the following cell to set up code for running the dynamics and plotting the results."
   ]
  },
  {
   "cell_type": "code",
   "execution_count": null,
   "id": "swedish-trance",
   "metadata": {},
   "outputs": [],
   "source": [
    "import numpy as np\n",
    "import matplotlib.pyplot as plt\n",
    "from pathlib import Path # to handle file paths across all operating systems\n",
    "\n",
    "# networkx is a popular python package for dealing with networks\n",
    "import networkx as nx\n",
    "# temporary patch for networkx 2.7.1 under scipy 1.7.3\n",
    "from helpers.networkx_patch import * \n",
    "# scipy's `eigs` function computes eigenvalues and eigenvectors of a (sparse) matrix\n",
    "from scipy.sparse.linalg import eigs\n",
    "# the prettynet package makes simple network visualizations\n",
    "from prettynet.prettynet import view,nodeColors\n",
    "\n",
    "def spreadingDynamics(weightMatrix,initialState,numTimesteps=100):\n",
    "    \"\"\"\n",
    "    Implements simple network dynamics in which states at each node spread to neighboring nodes\n",
    "    at rates given by weightMatrix.\n",
    "    \n",
    "    weightMatrix             : (N x N) array defining rate of spread between nodes\n",
    "                               (w_ij corresponds to the rate of spreading from node j to node i)\n",
    "    initialState             : length N vector defining the initial state\n",
    "    numTimesteps (100)       : number of timesteps to simulate\n",
    "    \n",
    "    Returns:\n",
    "    stateList                : ( (numTimesteps + 1) x N ) array of states at each time point\n",
    "    \"\"\"\n",
    "    stateList = [ initialState, ]\n",
    "    state = np.copy(initialState)\n",
    "    for t in range(numTimesteps):\n",
    "        state = np.dot(weightMatrix,state)\n",
    "        stateList.append(state)\n",
    "    return np.array(stateList)"
   ]
  },
  {
   "cell_type": "markdown",
   "id": "organic-paint",
   "metadata": {},
   "source": [
    "### 1) Dynamics on a simple example network"
   ]
  },
  {
   "cell_type": "markdown",
   "id": "caring-crime",
   "metadata": {},
   "source": [
    "The following cell creates the simple example network that appears in this week's lecture.  (Feel free to change or add to these edges.)"
   ]
  },
  {
   "cell_type": "code",
   "execution_count": null,
   "id": "delayed-wallpaper",
   "metadata": {},
   "outputs": [],
   "source": [
    "# construct a simple example by hand by listing the network's edges\n",
    "edges = [(0,3),\n",
    "         (1,3),\n",
    "         (2,3),\n",
    "         (3,4),\n",
    "         (4,5),\n",
    "         (4,6),\n",
    "         (4,7),\n",
    "         (5,8),\n",
    "         (6,9),\n",
    "         (6,10),\n",
    "         (7,11),\n",
    "         (9,12),\n",
    "         (9,13)]\n",
    "G = nx.from_edgelist(edges)"
   ]
  },
  {
   "cell_type": "markdown",
   "id": "exempt-easter",
   "metadata": {},
   "source": [
    "`G` is a network (aka graph) object created by the `networkx` package.  It contains the network's nodes and edges and can be used to output various useful representations of the network, including its adjacency matrix:"
   ]
  },
  {
   "cell_type": "code",
   "execution_count": null,
   "id": "unexpected-bumper",
   "metadata": {},
   "outputs": [],
   "source": [
    "nx.adjacency_matrix(G).toarray()"
   ]
  },
  {
   "cell_type": "markdown",
   "id": "pointed-african",
   "metadata": {},
   "source": [
    "The `view` function outputs a visualization of the network.  (Note that this will look slightly different than the visualization I showed in lecture, because I have since updated to use newer software. You can verify that it's still the same network!)"
   ]
  },
  {
   "cell_type": "code",
   "execution_count": null,
   "id": "animated-threat",
   "metadata": {},
   "outputs": [],
   "source": [
    "view(G)"
   ]
  },
  {
   "cell_type": "markdown",
   "id": "abandoned-opera",
   "metadata": {},
   "source": [
    "Now let's run dynamics on the network.  The following code initializes the nodes to each have a value of 1, then takes a single step of the simple spreading dynamics defined in this week's lecture (simply adding the value of each node to all its neighbors' states):"
   ]
  },
  {
   "cell_type": "code",
   "execution_count": null,
   "id": "nominated-doubt",
   "metadata": {},
   "outputs": [],
   "source": [
    "# set up the weight matrix that defines the dynamics\n",
    "# (note that we have to add the identity matrix (`np.eye`, the matrix with ones on the diagonal \n",
    "#  and zeros on the off-diagonal) to the adjacency matrix, so that at each step each node both \n",
    "#  keeps its current value and adds to that the input it gets from neighboring nodes)\n",
    "weightMatrix = nx.adjacency_matrix(G).toarray() + np.eye(G.number_of_nodes())\n",
    "# run dynamics, starting from the state in which each node has value 1\n",
    "initialState = [ 1,1,1,1,1,1,1,1,1,1,1,1,1,1 ]\n",
    "numTimesteps = 1\n",
    "stateList = spreadingDynamics(weightMatrix,initialState,numTimesteps)\n",
    "\n",
    "# print state vector and visualize state after numTimesteps\n",
    "# (colors in the visualization are rescaled so that the largest value corresponds to dark green)\n",
    "state = stateList[numTimesteps]\n",
    "print(\"State vector after {} timesteps = {}\".format(numTimesteps,state))\n",
    "view(G,node_color=nodeColors(state, G.nodes))"
   ]
  },
  {
   "cell_type": "markdown",
   "id": "hydraulic-latex",
   "metadata": {},
   "source": [
    "❓**Modify the above code to run the dynamics for multiple timesteps. About how many steps does it take for the relative pattern of states to stop changing?**"
   ]
  },
  {
   "cell_type": "markdown",
   "id": "wrong-cylinder",
   "metadata": {},
   "source": [
    "✳️ **Answer:** "
   ]
  },
  {
   "cell_type": "markdown",
   "id": "miniature-norway",
   "metadata": {},
   "source": [
    "❓**After many steps of the dynamics, what do you expect the pattern of states to look like in terms of the eigenvectors of the weight matrix?** *Hint: Recall that each eigenvector consists of a list of numbers, one for each node. (We calculate these eigenvectors explicitly below.)  Based on what we covered in the lecture on collective modes, which eigenvector is the relevant one?*"
   ]
  },
  {
   "cell_type": "markdown",
   "id": "stuck-rating",
   "metadata": {},
   "source": [
    "✳️ **Answer:** "
   ]
  },
  {
   "cell_type": "markdown",
   "id": "surrounded-composite",
   "metadata": {},
   "source": [
    "Does the final pattern depend on the starting point?  \n",
    "❓**Modify the simulation so that the system starts with a value of 1 at a single node and zeros everywhere else (by changing `initialState`).  How many steps does it now take for the pattern to settle down?**"
   ]
  },
  {
   "cell_type": "markdown",
   "id": "sitting-sister",
   "metadata": {},
   "source": [
    "✳️ **Answer:** "
   ]
  },
  {
   "cell_type": "markdown",
   "id": "broke-potential",
   "metadata": {},
   "source": [
    "### 2) Collective modes of the simple example network"
   ]
  },
  {
   "cell_type": "markdown",
   "id": "proprietary-currency",
   "metadata": {},
   "source": [
    "Now we'll compute the principal eigenvectors of the adjacency matrix (those with the largest eigenvalues) to check your prediction.  Given a matrix, the `eigs` function returns the principal eigenvalues and eigenvectors.  (By default it computes the 6 with largest eigenvalues.)"
   ]
  },
  {
   "cell_type": "code",
   "execution_count": null,
   "id": "measured-details",
   "metadata": {},
   "outputs": [],
   "source": [
    "# compute first few dominant eigenmodes (the eigs function by default computes 6 of them)\n",
    "weightMatrix = nx.adjacency_matrix(G) + np.eye(G.number_of_nodes())\n",
    "vals,vecs = eigs(weightMatrix)\n",
    "\n",
    "# do some housekeeping to make our lives easier\n",
    "# (sort to have largest magnitude first, drop any imaginary parts if possible,\n",
    "#  and transpose the eigenvectors so that the first index corresponds to the \n",
    "#  eigenvector index instead of the node index)\n",
    "order = np.argsort(abs(vals))[::-1]\n",
    "vals,vecs = np.real_if_close(vals)[order],np.transpose(np.real_if_close(vecs)[:,order])"
   ]
  },
  {
   "cell_type": "markdown",
   "id": "negative-closure",
   "metadata": {},
   "source": [
    "Here are the first 6 eigenvalues:"
   ]
  },
  {
   "cell_type": "code",
   "execution_count": null,
   "id": "sonic-condition",
   "metadata": {},
   "outputs": [],
   "source": [
    "vals"
   ]
  },
  {
   "cell_type": "markdown",
   "id": "differential-musician",
   "metadata": {},
   "source": [
    "Here's the eigenvector with largest eigenvalue (remember that `0` is the index of the first item in a list in python):"
   ]
  },
  {
   "cell_type": "code",
   "execution_count": null,
   "id": "remarkable-battlefield",
   "metadata": {},
   "outputs": [],
   "source": [
    "vecs[0]"
   ]
  },
  {
   "cell_type": "markdown",
   "id": "formal-cargo",
   "metadata": {},
   "source": [
    "❓**Use the `view` function to visualize the network with colors corresponding to the eigenvector to which you expect the dynamics to converge.** *Hint: See above for an example of using the `node_color` argument to `view`. Make sure you are not just replotting the final network state.*  Does the eigenvector look the same as the result you got using the dynamics above?"
   ]
  },
  {
   "cell_type": "code",
   "execution_count": null,
   "id": "injured-rainbow",
   "metadata": {},
   "outputs": [],
   "source": [
    "# ✳️ Answer:"
   ]
  },
  {
   "cell_type": "markdown",
   "id": "growing-bidding",
   "metadata": {},
   "source": [
    "### 3) Dynamics on a real-world network"
   ]
  },
  {
   "cell_type": "markdown",
   "id": "above-marine",
   "metadata": {},
   "source": [
    "It is relatively easy nowadays to access data describing real-world networks.  Let's explore!\n",
    "\n",
    "❓**Download a real-world network dataset from an online repository and run the above collective mode analysis on it.**  *Hint: Feel free to either find your own way here or follow my lead using the notes below.*"
   ]
  },
  {
   "cell_type": "markdown",
   "id": "wrong-ground",
   "metadata": {},
   "source": [
    "✳️ **Answer:** "
   ]
  },
  {
   "cell_type": "markdown",
   "id": "43842628",
   "metadata": {},
   "source": [
    "Once you've run the analysis, if you haven't already, do a bit of research to find out where your network came from and what it represents.  \n",
    "\n",
    "❓**Describe in words how you would interpret the dominant collective mode you found in terms of real-world consequences**."
   ]
  },
  {
   "cell_type": "markdown",
   "id": "f6611e2f",
   "metadata": {},
   "source": [
    "✳️ **Answer:** "
   ]
  },
  {
   "cell_type": "markdown",
   "id": "de2d2f7d",
   "metadata": {},
   "source": [
    "### Suggested method for finding and loading network data:"
   ]
  },
  {
   "cell_type": "markdown",
   "id": "continued-plant",
   "metadata": {},
   "source": [
    "First, find an interesting network dataset.  I would recommend the Network Repository website: http://networkrepository.com/\n",
    "\n",
    "A word of caution: It's easy to find networks that are too large for your computer to analyze easily!  I would recommend looking for a network with fewer than about 1000 nodes (the number of nodes is listed as |V| at the above website)."
   ]
  },
  {
   "cell_type": "markdown",
   "id": "lesser-overall",
   "metadata": {},
   "source": [
    "To load a list of edges from a file, try using `np.loadtxt` as I have here.  You'll need to know where the file is on your system (path names use forward slashes for Mac/Linux, backward slashes for Windows...).\n",
    "\n",
    "(Note that I used the argument `usecols=(0,1)` to only read in the first two columns in the `.edges` file.  Some networks on the Network Repository website have extra columns in the `.edges` file that we won't use here.)"
   ]
  },
  {
   "cell_type": "code",
   "execution_count": null,
   "id": "designed-color",
   "metadata": {},
   "outputs": [],
   "source": [
    "edgeFilename = Path(r'/Users/bryandaniels/Downloads/bn-mouse_visual-cortex_2/bn/bn-mouse_visual-cortex_2.edges')\n",
    "edges = np.loadtxt(edgeFilename,usecols=(0,1),dtype=int)"
   ]
  },
  {
   "cell_type": "markdown",
   "id": "dominant-clock",
   "metadata": {},
   "source": [
    "Look at the first few edges in your edge list to make sure they look reasonable:"
   ]
  },
  {
   "cell_type": "code",
   "execution_count": null,
   "id": "reflected-jackson",
   "metadata": {},
   "outputs": [],
   "source": [
    "edges[:10]"
   ]
  },
  {
   "cell_type": "markdown",
   "id": "small-burns",
   "metadata": {},
   "source": [
    "Then create a `networkx` network using `nx.from_edgelist`:"
   ]
  },
  {
   "cell_type": "code",
   "execution_count": null,
   "id": "instructional-siemens",
   "metadata": {},
   "outputs": [],
   "source": [
    "G = nx.from_edgelist(edges)"
   ]
  },
  {
   "cell_type": "code",
   "execution_count": null,
   "id": "spare-washington",
   "metadata": {},
   "outputs": [],
   "source": [
    "view(G,node_size=400,font_size=12)"
   ]
  },
  {
   "cell_type": "markdown",
   "id": "emotional-prior",
   "metadata": {},
   "source": [
    "Once you have your network loaded, use code from the previous section to find (and hopefully plot) its dominant collective mode."
   ]
  }
 ],
 "metadata": {
  "kernelspec": {
   "display_name": "Python 3 (ipykernel)",
   "language": "python",
   "name": "python3"
  },
  "language_info": {
   "codemirror_mode": {
    "name": "ipython",
    "version": 3
   },
   "file_extension": ".py",
   "mimetype": "text/x-python",
   "name": "python",
   "nbconvert_exporter": "python",
   "pygments_lexer": "ipython3",
   "version": "3.9.18"
  }
 },
 "nbformat": 4,
 "nbformat_minor": 5
}
