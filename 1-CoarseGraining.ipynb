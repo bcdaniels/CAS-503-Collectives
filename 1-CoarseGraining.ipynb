{
 "cells": [
  {
   "cell_type": "markdown",
   "id": "impossible-vertex",
   "metadata": {},
   "source": [
    "*This jupyter notebook is part of Arizona State University's course CAS 503 (Fundamentals of Complex Systems Science: Collectives) and was written by Bryan Daniels.  It was last updated August 11, 2021.*"
   ]
  },
  {
   "cell_type": "markdown",
   "id": "renewable-missile",
   "metadata": {},
   "source": [
    "# Coarse graining concepts"
   ]
  },
  {
   "cell_type": "markdown",
   "id": "private-outreach",
   "metadata": {},
   "source": [
    "To understand the emergent behavior of physical systems, like the hardness of a crystal of a trillion trillion carbon atoms, we have conceptual and mathematical tools that allow us to think about the behavior of an aggregate when we know how its constituent components behave.\n",
    "\n",
    "The same concepts are useful in thinking about biological and social systems, too.  These systems typically have far fewer components (say, tens or hundreds to millions or billions)."
   ]
  },
  {
   "cell_type": "markdown",
   "id": "fresh-delicious",
   "metadata": {},
   "source": [
    "In this demo, we will play with simulations of small systems to get an intuitive feel for these concepts."
   ]
  },
  {
   "cell_type": "markdown",
   "id": "powered-smooth",
   "metadata": {},
   "source": [
    "## People wandering through a city"
   ]
  },
  {
   "cell_type": "markdown",
   "id": "formed-despite",
   "metadata": {},
   "source": [
    "Imagine people moving through a city."
   ]
  },
  {
   "cell_type": "markdown",
   "id": "occupied-raise",
   "metadata": {},
   "source": [
    "To make the point most simply, let's assume we have a bunch of wanderers who don't have a destination in mind.  (We will need more complicated tools when people have more complicated behavior---but the usefulness of the concept of coarse-graining will persist.)"
   ]
  },
  {
   "cell_type": "markdown",
   "id": "active-brighton",
   "metadata": {},
   "source": [
    "Run the following code to set up the simulation.  (To run a cell in a jupyter notebook, highlight the cell and press shift-enter.)"
   ]
  },
  {
   "cell_type": "code",
   "execution_count": null,
   "id": "brief-vocabulary",
   "metadata": {},
   "outputs": [],
   "source": [
    "import scipy\n",
    "import scipy.stats\n",
    "import numpy as np\n",
    "import matplotlib.pyplot as plt\n",
    "\n",
    "def simulate2Ddiffusion(initialState,oneStepFunction,numTimesteps,seed=123):\n",
    "    \"\"\"\n",
    "    Simulates a 2-dimensional diffusion process with particles moving at each timepoint from \n",
    "    their current position to a new one according to a given single-step function.\n",
    "    \n",
    "    initialState        : an (N x 2) array representing the initial 2D positions of N particles\n",
    "    oneStepFunction     : a function that acts on an (N x 2) array of positions to perform one simulation step\n",
    "    numTimesteps        : the number of timesteps to simulate\n",
    "    \n",
    "    Returns:\n",
    "    \n",
    "    stateHistory        : a (numTimesteps x N x 2) array containing the 2D positions of N particles\n",
    "                          over time\n",
    "    \"\"\"\n",
    "    scipy.random.seed(seed)\n",
    "    stateHistory = []\n",
    "    currentState = np.copy(initialState)\n",
    "    for i in range(numTimesteps+1):\n",
    "        stateHistory.append(currentState)\n",
    "        currentState = oneStepFunction(currentState)\n",
    "    return np.array( stateHistory )\n",
    "\n",
    "def squareStep(state,width=1):\n",
    "    \"\"\"\n",
    "    Takes a step randomly chosen within a square of given width.\n",
    "    \"\"\"\n",
    "    step = width*(scipy.random.random(size=np.shape(state)) - 0.5)\n",
    "    return state + step\n",
    "\n",
    "def manhattanStep(state,stepsize=1):\n",
    "    \"\"\"\n",
    "    Takes a step of given stepsize in a random cardinal direction (north, east, south, or west).\n",
    "    \"\"\"\n",
    "    thetas = np.random.randint(0,4,size=len(state)) * np.pi/2.\n",
    "    return np.transpose((state[:,0] + stepsize*np.cos(thetas),\n",
    "                         state[:,1] + stepsize*np.sin(thetas)))\n",
    "\n",
    "def diskStep(state,diameter=1):\n",
    "    \"\"\"\n",
    "    Takes a step randomly within a disk of given diameter.\n",
    "    \"\"\"\n",
    "    thetas = 2.*scipy.pi*scipy.random.random(size=len(state))\n",
    "    rs = diameter/2. * scipy.random.random(size=len(state))\n",
    "    return np.transpose((state[:,0] + rs*np.cos(thetas),\n",
    "                         state[:,1] + rs*np.sin(thetas)))\n",
    "\n",
    "def circleStep(state,diameter=1):\n",
    "    \"\"\"\n",
    "    Takes a step of fixed size along a randomly chosen angle.\n",
    "    \"\"\"\n",
    "    thetas = 2.*scipy.pi*scipy.random.random(size=len(state))\n",
    "    rs = np.ones(len(state))\n",
    "    return np.transpose((state[:,0] + rs*np.cos(thetas),\n",
    "                         state[:,1] + rs*np.sin(thetas)))\n",
    "\n",
    "def plotSteps(states,times,colors):\n",
    "    \"\"\"\n",
    "    Given a history of states, plots the locations of particles at given times using given colors.\n",
    "    \"\"\"\n",
    "    for t,color in zip(times,colors):\n",
    "        plt.scatter(states[t,:,0],states[t,:,1],s=1,color=color)\n",
    "        plt.axis('equal')\n",
    "        plt.axis('off')"
   ]
  },
  {
   "cell_type": "markdown",
   "id": "harmful-panama",
   "metadata": {},
   "source": [
    "The simulation starts with a group of people at the same location.  Then each individual takes a step in a random direction.  The direction can be chosen in three ways:\n",
    "* \"Manhattan step\": Each person walks one block in a random direction along streets in a square grid.\n",
    "* \"Disk step\": Each person chooses a random direction not confined along streets and walks in that direction a random distance up to some maximum.\n",
    "* \"Circle step\": Each person chooses a random direction not confined along streets and walks a fixed distance in that direction."
   ]
  },
  {
   "cell_type": "markdown",
   "id": "sonic-dallas",
   "metadata": {},
   "source": [
    "The following code runs the three cases with 2000 individuals taking a single step and plots the resulting positions."
   ]
  },
  {
   "cell_type": "code",
   "execution_count": null,
   "id": "breathing-wisconsin",
   "metadata": {},
   "outputs": [],
   "source": [
    "N = 2000 # number of individual people to simulate\n",
    "numTimesteps = 1 # number of timesteps to simulate\n",
    "\n",
    "# run the simulation for three types of steps: Manhattan, Disk, and Circle\n",
    "initialState = np.zeros((N,2))\n",
    "statesManhattan = simulate2Ddiffusion(initialState,manhattanStep,numTimesteps,seed=123)\n",
    "statesDisk = simulate2Ddiffusion(initialState,diskStep,numTimesteps,seed=126)\n",
    "statesCircle = simulate2Ddiffusion(initialState,circleStep,numTimesteps,seed=128)\n",
    "\n",
    "# plot positions after one step in blue and after numTimesteps steps in black\n",
    "plt.figure(figsize=(17,5))\n",
    "for i,states,name in zip(range(3),[statesManhattan,statesDisk,statesCircle],['Manhattan','Disk','Circle']):\n",
    "    plt.subplot(1,3,i+1)\n",
    "    plotSteps(states,[numTimesteps,1,0],['black','cornflowerblue','crimson'])\n",
    "    plt.title(name)"
   ]
  },
  {
   "cell_type": "markdown",
   "id": "everyday-genetics",
   "metadata": {},
   "source": [
    "Run the code again using `numTimesteps = 2`.  Now the code plots the places where people end up after 1 step in blue, and after 2 steps in black.  ❓**How would you describe the distribution of people after 2 steps in the three cases?  Are patterns visible?**"
   ]
  },
  {
   "cell_type": "markdown",
   "id": "skilled-spirit",
   "metadata": {},
   "source": [
    "✳️ **Answer:** "
   ]
  },
  {
   "cell_type": "markdown",
   "id": "rising-merchandise",
   "metadata": {},
   "source": [
    "Now increase the number of timesteps above from 2 to 10 and rerun the simulation.  The plotting routine will automatically zoom out to show all the final points."
   ]
  },
  {
   "cell_type": "markdown",
   "id": "divided-aircraft",
   "metadata": {},
   "source": [
    "Now increase the number of timesteps further, up to 10000 (or more if you are willing to wait!).  ❓**How many numbers do we need to describe the emergent, coarse-grained characteristics of the movement when we zoom out to many steps?** "
   ]
  },
  {
   "cell_type": "markdown",
   "id": "powered-romantic",
   "metadata": {},
   "source": [
    "✳️ **Answer:** "
   ]
  },
  {
   "cell_type": "markdown",
   "id": "stylish-christianity",
   "metadata": {},
   "source": [
    "We can show this more precisely by estimating the *probability density*—that is, after they have roamed for some time, how likely are we to find a person on any given patch of land?  \n",
    "\n",
    "The function `plt.hist` takes a list of values and plots a histogram showing the number of samples per bin.  ❓**Use `plt.hist` to plot a histogram of final horizontal positions after a long time has passed for each type of step.  Use `plt.xlabel` and `plt.ylabel` to label the axes appropriately.  Use `plt.title` to give each plot a title with the name of the step type.**"
   ]
  },
  {
   "cell_type": "code",
   "execution_count": null,
   "id": "fifth-stations",
   "metadata": {},
   "outputs": [],
   "source": [
    "# ✳️ Answer:"
   ]
  },
  {
   "cell_type": "markdown",
   "id": "informative-grain",
   "metadata": {},
   "source": [
    "These three plots look quite similar, though the scale is different: Manhattan walkers end up further from their starting point than Disk walkers.  What if we rescale by this single parameter?  Do we end up converging toward a single emergent distribution shape?\n",
    "\n",
    "❓**Use `plt.hist` to plot all three histograms on the same figure, also dividing the horizontal positions by the width of the distribution in each case, as measured by the standard deviation (`np.std`).**  *Hints: When comparing multiple histograms, it is useful to use a consistent set of bins (specify the bins defined by the code below by passing `bins=bins` to `plt.hist`).  The `histtype='step'` option will useful to show the histogram shapes without overlapping.  I've done the first for you.*"
   ]
  },
  {
   "cell_type": "code",
   "execution_count": null,
   "id": "ace0f640",
   "metadata": {},
   "outputs": [],
   "source": [
    "numBins = 35\n",
    "minx,maxx = -4,4\n",
    "bins = np.linspace(minx,maxx,numBins)\n",
    "\n",
    "plt.hist(statesManhattan[numTimesteps,:,0]/np.std(statesManhattan[numTimesteps,:,0]),histtype='step',bins=bins);"
   ]
  },
  {
   "cell_type": "code",
   "execution_count": null,
   "id": "variable-effectiveness",
   "metadata": {},
   "outputs": [],
   "source": [
    "# ✳️ Answer:"
   ]
  },
  {
   "cell_type": "markdown",
   "id": "metallic-cooperation",
   "metadata": {},
   "source": [
    "The statistically inclined among you will recognize this as a normal (Gaussian) distribution.  ❓**Use the following code to add the predicted normal distribution to your plot.**"
   ]
  },
  {
   "cell_type": "code",
   "execution_count": null,
   "id": "f23bf09e",
   "metadata": {},
   "outputs": [],
   "source": [
    "x = np.linspace(bins[0],bins[-1],100)\n",
    "binwidth = bins[1]-bins[0]\n",
    "plt.plot(x,N*binwidth*scipy.stats.norm.pdf(x),'k-',lw=3)"
   ]
  },
  {
   "cell_type": "code",
   "execution_count": null,
   "id": "loaded-spread",
   "metadata": {},
   "outputs": [],
   "source": [
    "# ✳️ Answer:"
   ]
  },
  {
   "cell_type": "markdown",
   "id": "declared-ballet",
   "metadata": {},
   "source": [
    "The moral of the story: If we care only about the behavior of walkers over a long time, many details about the small-scale behavior average out and become unimportant.  In this case, the single detail that survives is the average speed of the walker (setting the width of the eventual distribution of possible positions).  \n",
    "\n",
    "For this reason, even if we know that walkers are, say, confined to streets, we might choose to model their behavior more simply as \"Take a bunch of steps in random directions with equal size\".  In fact, in this simple case, we can derive the form of the final distribution analytically and do not need to simulate at all!"
   ]
  },
  {
   "cell_type": "markdown",
   "id": "reliable-election",
   "metadata": {},
   "source": [
    "## Particles with gravity and nearest neighbor interactions"
   ]
  },
  {
   "cell_type": "markdown",
   "id": "noble-postcard",
   "metadata": {},
   "source": [
    "Go to the [LiquidFun simulation website](https://google.github.io/liquidfun/testbed/)."
   ]
  },
  {
   "cell_type": "code",
   "execution_count": null,
   "id": "active-meter",
   "metadata": {},
   "outputs": [],
   "source": []
  }
 ],
 "metadata": {
  "kernelspec": {
   "display_name": "Python 3",
   "language": "python",
   "name": "python3"
  },
  "language_info": {
   "codemirror_mode": {
    "name": "ipython",
    "version": 3
   },
   "file_extension": ".py",
   "mimetype": "text/x-python",
   "name": "python",
   "nbconvert_exporter": "python",
   "pygments_lexer": "ipython3",
   "version": "3.8.8"
  }
 },
 "nbformat": 4,
 "nbformat_minor": 5
}
